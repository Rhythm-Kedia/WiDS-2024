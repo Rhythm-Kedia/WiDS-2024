{
 "cells": [
  {
   "cell_type": "code",
   "execution_count": 15,
   "id": "1de412f8-aff8-46ed-b60c-48cbd00773a2",
   "metadata": {},
   "outputs": [],
   "source": [
    "import numpy as np\n",
    "\n",
    "def f(x, y):\n",
    "  return x**4 + x**2 * y**2 - y**2 + y**4 + 6\n",
    "\n",
    "def gradient_f(x, y):\n",
    "  return np.array([4 * x**3 + 2 * x * y**2, 2 * x**2 * y - 2 * y + 4 * y**3])\n",
    "\n",
    "def multivariate_gradient_descent(initial_x, initial_y, delta, iterations):\n",
    "  x = initial_x\n",
    "  y = initial_y\n",
    "  for _ in range(iterations):\n",
    "    grad = gradient_f(x, y)\n",
    "    x = x - delta * grad[0]\n",
    "    y = y - delta * grad[1]\n",
    "  return x,y\n",
    "\n",
    "\n",
    "delta = 0.01\n",
    "iterations = 10000"
   ]
  },
  {
   "cell_type": "code",
   "execution_count": 16,
   "id": "c513206e-59d6-4b90-9064-a0713ef388c8",
   "metadata": {},
   "outputs": [
    {
     "name": "stdout",
     "output_type": "stream",
     "text": [
      "Initial point: (1.0, 1.0) f(x, y) = 8.0\n",
      "Final point: (1.0468969402503873e-44,0.7071067811865461) f(x, y) = 5.75\n"
     ]
    }
   ],
   "source": [
    "# Global Minima 1\n",
    "initial_x = 1.0\n",
    "initial_y = 1.0\n",
    "\n",
    "x,y = multivariate_gradient_descent(initial_x, initial_y, delta, iterations)\n",
    "print(\"Initial point:\", (initial_x, initial_y), \"f(x, y) =\", f(initial_x, initial_y))\n",
    "print(\"Final point:\", f\"({x},{y})\", \"f(x, y) =\", f(x,y))"
   ]
  },
  {
   "cell_type": "code",
   "execution_count": 17,
   "id": "11425863-587b-483c-8399-1b038554c3bc",
   "metadata": {},
   "outputs": [
    {
     "name": "stdout",
     "output_type": "stream",
     "text": [
      "Initial point: (-1.0, -1.0) f(x, y) = 8.0\n",
      "Final point: (-1.0468969402503873e-44,-0.7071067811865461) f(x, y) = 5.75\n"
     ]
    }
   ],
   "source": [
    "# Global Minima 1\n",
    "initial_x = -1.0\n",
    "initial_y = -1.0\n",
    "\n",
    "x,y = multivariate_gradient_descent(initial_x, initial_y, delta, iterations)\n",
    "print(\"Initial point:\", (initial_x, initial_y), \"f(x, y) =\", f(initial_x, initial_y))\n",
    "print(\"Final point:\", f\"({x},{y})\", \"f(x, y) =\", f(x,y))"
   ]
  },
  {
   "cell_type": "markdown",
   "id": "612d5e85-d45e-425f-ac55-0bab924fb2b4",
   "metadata": {},
   "source": [
    "This are the two global minimas"
   ]
  }
 ],
 "metadata": {
  "kernelspec": {
   "display_name": "Python 3 (ipykernel)",
   "language": "python",
   "name": "python3"
  },
  "language_info": {
   "codemirror_mode": {
    "name": "ipython",
    "version": 3
   },
   "file_extension": ".py",
   "mimetype": "text/x-python",
   "name": "python",
   "nbconvert_exporter": "python",
   "pygments_lexer": "ipython3",
   "version": "3.12.3"
  }
 },
 "nbformat": 4,
 "nbformat_minor": 5
}
